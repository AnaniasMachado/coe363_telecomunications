{
 "cells": [
  {
   "cell_type": "code",
   "execution_count": 1,
   "metadata": {},
   "outputs": [],
   "source": [
    "import ffmpeg"
   ]
  },
  {
   "cell_type": "code",
   "execution_count": null,
   "metadata": {},
   "outputs": [],
   "source": [
    "def video_to_vp9(input_file, output_file):\n",
    "    ffmpeg.input(input_file).output(output_file, codec='libvpx-vp9').run()\n",
    "\n",
    "# Exemplo de uso\n",
    "input_file = \"video_data/AncientThought_s000.265\"\n",
    "output_file = \"video_vp9.webm\"\n",
    "video_to_vp9(input_file, output_file)"
   ]
  },
  {
   "cell_type": "code",
   "execution_count": 8,
   "metadata": {},
   "outputs": [
    {
     "name": "stderr",
     "output_type": "stream",
     "text": [
      "ffmpeg version 4.2.2 Copyright (c) 2000-2019 the FFmpeg developers\n",
      "  built with gcc 7.3.0 (crosstool-NG 1.23.0.449-a04d0)\n",
      "  configuration: --prefix=/tmp/build/80754af9/ffmpeg_1587154242452/_h_env_placehold_placehold_placehold_placehold_placehold_placehold_placehold_placehold_placehold_placehold_placehold_placehold_placehold_placehold_placehold_placehold_placehold_placehold_placehold_placehold_placeho --cc=/tmp/build/80754af9/ffmpeg_1587154242452/_build_env/bin/x86_64-conda_cos6-linux-gnu-cc --disable-doc --enable-avresample --enable-gmp --enable-hardcoded-tables --enable-libfreetype --enable-libvpx --enable-pthreads --enable-libopus --enable-postproc --enable-pic --enable-pthreads --enable-shared --enable-static --enable-version3 --enable-zlib --enable-libmp3lame --disable-nonfree --enable-gpl --enable-gnutls --disable-openssl --enable-libopenh264 --enable-libx264\n",
      "  libavutil      56. 31.100 / 56. 31.100\n",
      "  libavcodec     58. 54.100 / 58. 54.100\n",
      "  libavformat    58. 29.100 / 58. 29.100\n",
      "  libavdevice    58.  8.100 / 58.  8.100\n",
      "  libavfilter     7. 57.100 /  7. 57.100\n",
      "  libavresample   4.  0.  0 /  4.  0.  0\n",
      "  libswscale      5.  5.100 /  5.  5.100\n",
      "  libswresample   3.  5.100 /  3.  5.100\n",
      "  libpostproc    55.  5.100 / 55.  5.100\n",
      "[hevc @ 0x5627377aef00] Stream #0: not enough frames to estimate rate; consider increasing probesize\n",
      "Input #0, hevc, from 'video_data/AncientThought_s000.265':\n",
      "  Duration: N/A, bitrate: N/A\n",
      "    Stream #0:0: Video: hevc (Main), yuv420p(tv), 3840x2160, 23.98 fps, 23.98 tbr, 1200k tbn, 23.98 tbc\n",
      "Stream mapping:\n",
      "  Stream #0:0 -> #0:0 (hevc (native) -> h264 (libx264))\n",
      "Press [q] to stop, [?] for help\n",
      "[libx264 @ 0x5627377e0180] using cpu capabilities: MMX2 SSE2Fast SSSE3 SSE4.2 AVX FMA3 BMI2 AVX2\n",
      "[libx264 @ 0x5627377e0180] profile High, level 5.1, 4:2:0, 8-bit\n",
      "[libx264 @ 0x5627377e0180] 264 - core 157 - H.264/MPEG-4 AVC codec - Copyleft 2003-2018 - http://www.videolan.org/x264.html - options: cabac=1 ref=3 deblock=1:0:0 analyse=0x3:0x113 me=hex subme=7 psy=1 psy_rd=1.00:0.00 mixed_ref=1 me_range=16 chroma_me=1 trellis=1 8x8dct=1 cqm=0 deadzone=21,11 fast_pskip=1 chroma_qp_offset=-2 threads=18 lookahead_threads=3 sliced_threads=0 nr=0 decimate=1 interlaced=0 bluray_compat=0 constrained_intra=0 bframes=3 b_pyramid=2 b_adapt=1 b_bias=0 direct=1 weightb=1 open_gop=0 weightp=2 keyint=250 keyint_min=23 scenecut=40 intra_refresh=0 rc_lookahead=40 rc=crf mbtree=1 crf=23.0 qcomp=0.60 qpmin=0 qpmax=69 qpstep=4 ip_ratio=1.40 aq=1:1.00\n",
      "Output #0, matroska, to 'video_av1_2.mkv':\n",
      "  Metadata:\n",
      "    encoder         : Lavf58.29.100\n",
      "    Stream #0:0: Video: h264 (libx264) (H264 / 0x34363248), yuv420p, 3840x2160, q=-1--1, 23.98 fps, 1k tbn, 23.98 tbc\n",
      "    Metadata:\n",
      "      encoder         : Lavc58.54.100 libx264\n",
      "    Side data:\n",
      "      cpb: bitrate max/min/avg: 0/0/0 buffer size: 0 vbv_delay: -1\n",
      "frame=  120 fps=7.0 q=-1.0 Lsize=   11675kB time=00:00:04.88 bitrate=19599.1kbits/s speed=0.286x     \n",
      "video:11674kB audio:0kB subtitle:0kB other streams:0kB global headers:0kB muxing overhead: 0.014523%\n",
      "[libx264 @ 0x5627377e0180] frame I:2     Avg QP:20.26  size:104252\n",
      "[libx264 @ 0x5627377e0180] frame P:118   Avg QP:22.19  size: 99530\n",
      "[libx264 @ 0x5627377e0180] mb I  I16..4: 13.8% 85.3%  0.8%\n",
      "[libx264 @ 0x5627377e0180] mb P  I16..4:  6.7%  8.0%  0.0%  P16..4: 49.6%  6.3%  7.2%  0.0%  0.0%    skip:22.4%\n",
      "[libx264 @ 0x5627377e0180] 8x8 transform intra:57.5% inter:93.0%\n",
      "[libx264 @ 0x5627377e0180] coded y,uvDC,uvAC intra: 20.2% 78.5% 40.7% inter: 23.1% 63.7% 3.0%\n",
      "[libx264 @ 0x5627377e0180] i16 v,h,dc,p: 18% 16%  4% 62%\n",
      "[libx264 @ 0x5627377e0180] i8 v,h,dc,ddl,ddr,vr,hd,vl,hu: 28% 11% 37%  4%  5%  4%  5%  3%  2%\n",
      "[libx264 @ 0x5627377e0180] i4 v,h,dc,ddl,ddr,vr,hd,vl,hu: 37% 17% 19%  5%  7%  4%  5%  4%  2%\n",
      "[libx264 @ 0x5627377e0180] i8c dc,h,v,p: 53% 15% 18% 14%\n",
      "[libx264 @ 0x5627377e0180] Weighted P-Frames: Y:0.0% UV:0.0%\n",
      "[libx264 @ 0x5627377e0180] ref P L0: 51.0%  4.8% 28.1% 16.0%\n",
      "[libx264 @ 0x5627377e0180] kb/s:19108.89\n"
     ]
    }
   ],
   "source": [
    "def convert_video_to_av1(input_file, output_file):\n",
    "    ffmpeg.input(input_file).output(output_file, acodec='libaom-av1').run()\n",
    "\n",
    "# Exemplo de uso\n",
    "input_file = \"video_data/AncientThought_s000.265\"\n",
    "output_file = \"video_av1.mkv\"\n",
    "convert_video_to_av1(input_file, output_file)"
   ]
  },
  {
   "cell_type": "code",
   "execution_count": null,
   "metadata": {},
   "outputs": [],
   "source": [
    "def convert_video_to_mp4(input_file, output_file):\n",
    "    ffmpeg.input(input_file).output(output_file).run()\n",
    "\n",
    "# Exemplo de uso\n",
    "input_file = \"video_data/AncientThought_s000.265\"\n",
    "output_file = \"video_mp4.mp4\"\n",
    "convert_video_to_av1(input_file, output_file)"
   ]
  }
 ],
 "metadata": {
  "kernelspec": {
   "display_name": "work_env_kernel",
   "language": "python",
   "name": "work_env_kernel"
  },
  "language_info": {
   "codemirror_mode": {
    "name": "ipython",
    "version": 3
   },
   "file_extension": ".py",
   "mimetype": "text/x-python",
   "name": "python",
   "nbconvert_exporter": "python",
   "pygments_lexer": "ipython3",
   "version": "3.12.0"
  }
 },
 "nbformat": 4,
 "nbformat_minor": 2
}
