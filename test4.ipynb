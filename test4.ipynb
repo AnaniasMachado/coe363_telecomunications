{
 "cells": [
  {
   "cell_type": "code",
   "execution_count": 4,
   "metadata": {},
   "outputs": [],
   "source": [
    "import cv2\n",
    "from skimage.metrics import structural_similarity"
   ]
  },
  {
   "cell_type": "code",
   "execution_count": 5,
   "metadata": {},
   "outputs": [
    {
     "name": "stdout",
     "output_type": "stream",
     "text": [
      "O SSIM médio entre os vídeos é: 0.9808809838851588\n"
     ]
    }
   ],
   "source": [
    "# Carrega os vídeos\n",
    "video1 = cv2.VideoCapture(\"video_data/AncientThought_s000.265\")\n",
    "video2 = cv2.VideoCapture(\"video_av1.mkv\")\n",
    "\n",
    "# Inicializa as variáveis para o cálculo do SSIM\n",
    "total_ssim = 0\n",
    "frames = 0\n",
    "\n",
    "# Loop para processar cada frame dos vídeos\n",
    "while True:\n",
    "    # Lê um frame de cada vídeo\n",
    "    ret1, frame1 = video1.read()\n",
    "    ret2, frame2 = video2.read()\n",
    "    \n",
    "    # Verifica se algum dos vídeos chegou ao fim\n",
    "    if not ret1 or not ret2:\n",
    "        break\n",
    "    \n",
    "    # Converte os frames para escala de cinza\n",
    "    frame1_gray = cv2.cvtColor(frame1, cv2.COLOR_BGR2GRAY)\n",
    "    frame2_gray = cv2.cvtColor(frame2, cv2.COLOR_BGR2GRAY)\n",
    "    \n",
    "    # Calcula o SSIM entre os frames\n",
    "    ssim = structural_similarity(frame1_gray, frame2_gray, multichannel=True)\n",
    "    \n",
    "    # Acumula o SSIM total e incrementa o contador de frames\n",
    "    total_ssim += ssim\n",
    "    frames += 1\n",
    "\n",
    "# Calcula a média do SSIM\n",
    "mean_ssim = total_ssim / frames\n",
    "\n",
    "# Exibe o resultado\n",
    "print(f\"O SSIM médio entre os vídeos é: {mean_ssim}\")\n",
    "\n",
    "# Libera os vídeos\n",
    "video1.release()\n",
    "video2.release()"
   ]
  },
  {
   "cell_type": "code",
   "execution_count": 8,
   "metadata": {},
   "outputs": [
    {
     "name": "stdout",
     "output_type": "stream",
     "text": [
      "./video_results/AncientThought_s000.webm\n"
     ]
    }
   ],
   "source": [
    "video_file = \"./video_data/AncientThought_s000.265\"\n",
    "output_file = \"./video_results/\" + video_file.split(\"/\")[2][:-4] + \".webm\"\n",
    "print(output_file)"
   ]
  }
 ],
 "metadata": {
  "kernelspec": {
   "display_name": "work_env_kernel",
   "language": "python",
   "name": "work_env_kernel"
  },
  "language_info": {
   "codemirror_mode": {
    "name": "ipython",
    "version": 3
   },
   "file_extension": ".py",
   "mimetype": "text/x-python",
   "name": "python",
   "nbconvert_exporter": "python",
   "pygments_lexer": "ipython3",
   "version": "3.12.0"
  }
 },
 "nbformat": 4,
 "nbformat_minor": 2
}
