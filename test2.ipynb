{
 "cells": [
  {
   "cell_type": "code",
   "execution_count": 1,
   "metadata": {},
   "outputs": [],
   "source": [
    "import numpy as np\n",
    "import pandas as pd\n",
    "import cv2"
   ]
  },
  {
   "cell_type": "code",
   "execution_count": 2,
   "metadata": {},
   "outputs": [
    {
     "name": "stdout",
     "output_type": "stream",
     "text": [
      "Shape do array de vídeo: (120, 2160, 3840, 3)\n"
     ]
    }
   ],
   "source": [
    "# Caminho do arquivo de vídeo no formato H.265\n",
    "video_path = \"video_data/AncientThought_s000.265\"\n",
    "\n",
    "# Abre o vídeo usando o OpenCV\n",
    "cap = cv2.VideoCapture(video_path)\n",
    "\n",
    "# Verifica se o vídeo foi aberto com sucesso\n",
    "if not cap.isOpened():\n",
    "    print(\"Erro ao abrir o vídeo.\")\n",
    "    exit()\n",
    "\n",
    "# Inicializa a lista para armazenar os frames do vídeo como Numpy arrays\n",
    "frames = []\n",
    "\n",
    "# Loop para ler todos os frames do vídeo\n",
    "while True:\n",
    "    # Lê o próximo frame do vídeo\n",
    "    ret, frame = cap.read()\n",
    "\n",
    "    # Verifica se o frame foi lido corretamente\n",
    "    if not ret:\n",
    "        break\n",
    "\n",
    "    # Converte o frame para um array NumPy\n",
    "    frame = np.array(frame)\n",
    "\n",
    "    # Adiciona o frame à lista de frames\n",
    "    frames.append(frame)\n",
    "\n",
    "# Libera o objeto de captura de vídeo\n",
    "cap.release()\n",
    "\n",
    "# Converte a lista de frames para um array NumPy de 3 dimensões\n",
    "video_array = np.array(frames)\n",
    "\n",
    "# Visualiza o resultado\n",
    "print(\"Shape do array de vídeo:\", video_array.shape)"
   ]
  }
 ],
 "metadata": {
  "kernelspec": {
   "display_name": "work_env_kernel",
   "language": "python",
   "name": "work_env_kernel"
  },
  "language_info": {
   "codemirror_mode": {
    "name": "ipython",
    "version": 3
   },
   "file_extension": ".py",
   "mimetype": "text/x-python",
   "name": "python",
   "nbconvert_exporter": "python",
   "pygments_lexer": "ipython3",
   "version": "3.12.0"
  }
 },
 "nbformat": 4,
 "nbformat_minor": 2
}
